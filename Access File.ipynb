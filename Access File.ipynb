{
 "cells": [
  {
   "cell_type": "code",
   "execution_count": 1,
   "id": "b62ceb3a-f752-4f13-bef3-595a19132e9a",
   "metadata": {},
   "outputs": [],
   "source": [
    "import random \n",
    "import timer\n",
    "import time \n",
    "import pandas as pd\n",
    "import getpass as pin\n",
    "from rich.console import Console as console\n",
    "console = console()"
   ]
  },
  {
   "cell_type": "code",
   "execution_count": 3,
   "id": "845d2943-4c44-4eda-921c-f463ec2adddb",
   "metadata": {},
   "outputs": [
    {
     "data": {
      "text/html": [
       "<pre style=\"white-space:pre;overflow-x:auto;line-height:normal;font-family:Menlo,'DejaVu Sans Mono',consolas,'Courier New',monospace\"><span style=\"color: #800000; text-decoration-color: #800000; font-weight: bold; font-style: italic\">                                                      Welcome                                                      </span>\n",
       "</pre>\n"
      ],
      "text/plain": [
       "\u001b[1;3;31m                                                      \u001b[0m\u001b[1;3;31mWelcome\u001b[0m\u001b[1;3;31m                                                      \u001b[0m\n"
      ]
     },
     "metadata": {},
     "output_type": "display_data"
    },
    {
     "name": "stdout",
     "output_type": "stream",
     "text": [
      "\t\t\tTo The Quiz Game.\n",
      "\n",
      "\tAdapted from the popular thriller series\n",
      "\t\t\tFROM\n"
     ]
    },
    {
     "data": {
      "text/html": [
       "<pre style=\"white-space:pre;overflow-x:auto;line-height:normal;font-family:Menlo,'DejaVu Sans Mono',consolas,'Courier New',monospace\">                                                                                                                   \n",
       "                                         Please Type in Your Login Details                                         \n",
       "</pre>\n"
      ],
      "text/plain": [
       "                                                                                                                   \n",
       "                                         Please Type in Your Login Details                                         \n"
      ]
     },
     "metadata": {},
     "output_type": "display_data"
    },
    {
     "name": "stdin",
     "output_type": "stream",
     "text": [
      "User Name WhitzardX\n",
      "Key in  email,  olamiwale2001@gmail.com\n",
      "Enter Your password  ········\n"
     ]
    },
    {
     "data": {
      "text/html": [
       "<pre style=\"white-space:pre;overflow-x:auto;line-height:normal;font-family:Menlo,'DejaVu Sans Mono',consolas,'Courier New',monospace\">                                          Password keyed in successfully                                           \n",
       "</pre>\n"
      ],
      "text/plain": [
       "                                          Password keyed in successfully                                           \n"
      ]
     },
     "metadata": {},
     "output_type": "display_data"
    },
    {
     "name": "stdout",
     "output_type": "stream",
     "text": [
      "\n",
      "\tYou can now login into the game\n"
     ]
    },
    {
     "name": "stdin",
     "output_type": "stream",
     "text": [
      "Key in your email olamiwale2001@gmail.com\n"
     ]
    },
    {
     "name": "stdout",
     "output_type": "stream",
     "text": [
      "Enter a valid password\n"
     ]
    },
    {
     "name": "stdin",
     "output_type": "stream",
     "text": [
      "Enter Your Password ········\n"
     ]
    },
    {
     "name": "stdout",
     "output_type": "stream",
     "text": [
      "Enter a valid password\n"
     ]
    },
    {
     "name": "stdin",
     "output_type": "stream",
     "text": [
      "Enter Your Password ········\n"
     ]
    },
    {
     "name": "stdout",
     "output_type": "stream",
     "text": [
      "Access Granted\n"
     ]
    }
   ],
   "source": [
    "#list of functions\n",
    "def slow(text, delay=0.1):\n",
    "    for txt in text:\n",
    "        print(txt, end='', flush=True)\n",
    "        time.sleep(delay)\n",
    "    print()\n",
    "\n",
    "\n",
    "\n",
    "# Welcomes the user to the quize game\n",
    "console.print('Welcome', justify = 'center', style = 'bold italic red')\n",
    "time.sleep(1)\n",
    "slow('\\t\\t\\tTo The Quiz Game.', 0.1)\n",
    "time.sleep(0.5)\n",
    "slow('\\n\\tAdapted from the popular thriller series', 0.08)\n",
    "slow('\\t\\t\\tFROM', 0.3)\n",
    "console.print('\\nPlease Type in Your Login Details', justify = 'center')\n",
    "\n",
    "#Asks for users details as one time sign up\n",
    "user_name = input('User Name').strip()\n",
    "email = input('Key in  email, ').strip()\n",
    "password = pin.getpass('Enter Your password ').strip()\n",
    "console.print('Password keyed in successfully', justify = 'center')\n",
    "\n",
    "\n",
    "\n",
    "#Saves the details in a dictionary\n",
    "details = {email:{'id':user_name, 'pin':password, 'score':0}}\n",
    "\n",
    "\n",
    "#Checks in the details of the user for login\n",
    "print('\\n\\tYou can now login into the game')\n",
    "email = input('Key in your email')\n",
    "while True:\n",
    "    #Login into the game\n",
    "    print('Enter a valid password')\n",
    "    password = pin.getpass('Enter Your Password')\n",
    "    if password != details[email]['pin']:\n",
    "        continue\n",
    "    else:\n",
    "        break\n",
    "print('Access Granted')\n",
    "\n",
    "\n",
    "\n",
    "\n",
    "\n",
    "\n",
    "\n",
    "\n",
    "\n"
   ]
  },
  {
   "cell_type": "code",
   "execution_count": null,
   "id": "0c1b246b-48ad-4096-8ea2-19c4cdc1f8f1",
   "metadata": {},
   "outputs": [],
   "source": []
  }
 ],
 "metadata": {
  "kernelspec": {
   "display_name": "Python 3 (ipykernel)",
   "language": "python",
   "name": "python3"
  },
  "language_info": {
   "codemirror_mode": {
    "name": "ipython",
    "version": 3
   },
   "file_extension": ".py",
   "mimetype": "text/x-python",
   "name": "python",
   "nbconvert_exporter": "python",
   "pygments_lexer": "ipython3",
   "version": "3.12.4"
  }
 },
 "nbformat": 4,
 "nbformat_minor": 5
}
